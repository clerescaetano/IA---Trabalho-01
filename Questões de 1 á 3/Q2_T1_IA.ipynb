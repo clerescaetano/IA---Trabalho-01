{
  "nbformat": 4,
  "nbformat_minor": 0,
  "metadata": {
    "colab": {
      "provenance": [],
      "include_colab_link": true
    },
    "kernelspec": {
      "name": "python3",
      "display_name": "Python 3"
    },
    "language_info": {
      "name": "python"
    }
  },
  "cells": [
    {
      "cell_type": "markdown",
      "metadata": {
        "id": "view-in-github",
        "colab_type": "text"
      },
      "source": [
        "<a href=\"https://colab.research.google.com/github/clerescaetano/IA---Trabalho-01/blob/main/Q2_T1_IA.ipynb\" target=\"_parent\"><img src=\"https://colab.research.google.com/assets/colab-badge.svg\" alt=\"Open In Colab\"/></a>"
      ]
    },
    {
      "cell_type": "code",
      "execution_count": null,
      "metadata": {
        "colab": {
          "base_uri": "https://localhost:8080/"
        },
        "id": "T7QKe4JTJMp1",
        "outputId": "3f0da15f-6bb4-4835-ddf8-a4fa41b2fe83"
      },
      "outputs": [
        {
          "output_type": "stream",
          "name": "stdout",
          "text": [
            "Collecting ucimlrepo\n",
            "  Downloading ucimlrepo-0.0.7-py3-none-any.whl.metadata (5.5 kB)\n",
            "Requirement already satisfied: pandas>=1.0.0 in /usr/local/lib/python3.10/dist-packages (from ucimlrepo) (2.2.2)\n",
            "Requirement already satisfied: certifi>=2020.12.5 in /usr/local/lib/python3.10/dist-packages (from ucimlrepo) (2024.8.30)\n",
            "Requirement already satisfied: numpy>=1.22.4 in /usr/local/lib/python3.10/dist-packages (from pandas>=1.0.0->ucimlrepo) (1.26.4)\n",
            "Requirement already satisfied: python-dateutil>=2.8.2 in /usr/local/lib/python3.10/dist-packages (from pandas>=1.0.0->ucimlrepo) (2.8.2)\n",
            "Requirement already satisfied: pytz>=2020.1 in /usr/local/lib/python3.10/dist-packages (from pandas>=1.0.0->ucimlrepo) (2024.2)\n",
            "Requirement already satisfied: tzdata>=2022.7 in /usr/local/lib/python3.10/dist-packages (from pandas>=1.0.0->ucimlrepo) (2024.2)\n",
            "Requirement already satisfied: six>=1.5 in /usr/local/lib/python3.10/dist-packages (from python-dateutil>=2.8.2->pandas>=1.0.0->ucimlrepo) (1.16.0)\n",
            "Downloading ucimlrepo-0.0.7-py3-none-any.whl (8.0 kB)\n",
            "Installing collected packages: ucimlrepo\n",
            "Successfully installed ucimlrepo-0.0.7\n",
            "{'uci_id': 372, 'name': 'HTRU2', 'repository_url': 'https://archive.ics.uci.edu/dataset/372/htru2', 'data_url': 'https://archive.ics.uci.edu/static/public/372/data.csv', 'abstract': 'Pulsar candidates collected during the HTRU survey. Pulsars are a type of star, of considerable scientific interest. Candidates must be classified in to pulsar and non-pulsar classes to aid discovery.', 'area': 'Physics and Chemistry', 'tasks': ['Classification', 'Clustering'], 'characteristics': ['Multivariate'], 'num_instances': 17898, 'num_features': 8, 'feature_types': ['Real'], 'demographics': [], 'target_col': ['class'], 'index_col': None, 'has_missing_values': 'no', 'missing_values_symbol': None, 'year_of_dataset_creation': 2015, 'last_updated': 'Wed Apr 03 2024', 'dataset_doi': '10.24432/C5DK6R', 'creators': ['Robert Lyon'], 'intro_paper': {'ID': 460, 'type': 'NATIVE', 'title': 'Fifty years of pulsar candidate selection: from simple filters to a new principled real-time classification approach', 'authors': 'R. Lyon, B. Stappers, S. Cooper, J. M. Brooke, Joshua D. Knowles', 'venue': 'Monthly notices of the Royal Astronomical Society', 'year': 2016, 'journal': None, 'DOI': '10.1093/mnras/stw656', 'URL': 'https://www.semanticscholar.org/paper/e81657338e48b233c8c6019832e6670fa552adb4', 'sha': None, 'corpus': None, 'arxiv': None, 'mag': None, 'acl': None, 'pmid': None, 'pmcid': None}, 'additional_info': {'summary': \"HTRU2 is a data set which describes a sample of pulsar candidates collected during the High Time Resolution Universe Survey (South) [1]. \\r\\n\\r\\nPulsars are a rare type of Neutron star that produce radio emission detectable here on Earth. They are of considerable scientific interest as probes of space-time, the inter-stellar medium, and states of matter (see [2] for more uses). \\r\\n\\r\\nAs pulsars rotate, their emission beam sweeps across the sky, and when this crosses our line of sight, produces a detectable pattern of broadband radio emission. As pulsars\\r\\nrotate rapidly, this pattern repeats periodically. Thus pulsar search involves looking for periodic radio signals with large radio telescopes.\\r\\n\\r\\nEach pulsar produces a slightly different emission pattern, which varies slightly with each rotation (see [2] for an introduction to pulsar astrophysics to find out why). Thus a  potential signal detection known as a 'candidate', is averaged over many rotations of the pulsar, as determined by the length of an observation. In the absence of additional info, each candidate could potentially describe a real pulsar. However in practice almost all detections are caused by radio frequency interference (RFI) and noise, making legitimate signals hard to find.\\r\\n\\r\\nMachine learning tools are now being used to automatically label pulsar candidates to facilitate rapid analysis. Classification systems in particular are being widely adopted,\\r\\n(see [4,5,6,7,8,9]) which treat the candidate data sets  as binary classification problems. Here the legitimate pulsar examples are a minority positive class, and spurious examples the majority negative class. At present multi-class labels are unavailable, given the costs associated with data annotation.\\r\\n\\r\\nThe data set shared here contains 16,259 spurious examples caused by RFI/noise, and 1,639 real pulsar examples. These examples have all been checked by human annotators. \\r\\n\\r\\nThe data is presented in two formats: CSV and ARFF (used by the WEKA data mining tool). Candidates are stored in both files in separate rows. Each row lists the variables first, and the class label is the final entry. The class labels used are 0 (negative) and 1 (positive).\\r\\n\\r\\nPlease note that the data contains no positional information or other astronomical details. It is simply feature data extracted from candidate files using the PulsarFeatureLab tool (see [10]).\", 'purpose': None, 'funded_by': None, 'instances_represent': None, 'recommended_data_splits': None, 'sensitive_data': None, 'preprocessing_description': None, 'variable_info': 'Each candidate is described by 8 continuous variables, and a single class variable. The first four are simple statistics obtained from the integrated pulse profile (folded profile). This is an array of continuous variables that describe a longitude-resolved version of the signal that has been averaged in both time and frequency (see [3] for more details). The remaining four variables are similarly obtained from the DM-SNR curve (again see [3] for more details). These are summarised below:\\r\\n\\r\\n1. Mean of the integrated profile.\\r\\n2. Standard deviation of the integrated profile.\\r\\n3. Excess kurtosis of the integrated profile.\\r\\n4. Skewness of the integrated profile.\\r\\n5. Mean of the DM-SNR curve.\\r\\n6. Standard deviation of the DM-SNR curve.\\r\\n7. Excess kurtosis of the DM-SNR curve.\\r\\n8. Skewness of the DM-SNR curve.\\r\\n9. Class\\r\\n\\r\\nHTRU 2 Summary\\r\\n17,898 total examples.\\r\\n1,639 positive examples.\\r\\n16,259 negative examples.', 'citation': 'If you use the dataset in your work, please cite us using the following paper:\\n\\nR. J. Lyon, B. W. Stappers, S. Cooper, J. M. Brooke, J. D. Knowles, Fifty Years of Pulsar Candidate Selection: From simple filters to a new principled real-time classification approach, Monthly Notices of the Royal Astronomical Society 459 (1), 1104-1123, DOI: 10.1093/mnras/stw656\\n\\nIf possible, please also cite the DOI of the data set directly:\\n\\nR. J. Lyon, HTRU2, DOI: 10.6084/m9.figshare.3080389.v1.\\n\\nAcknowledgements\\n\\nThis data was obtained with the support of grant EP/I028099/1 for the University of Manchester  Centre for Doctoral Training in Computer Science, from the UK Engineering and Physical Sciences Research Council (EPSRC). The raw observational data was collected by the High Time Resolution Universe Collaboration using the Parkes Observatory, funded by the Commonwealth of Australia and managed by the CSIRO.'}}\n",
            "               name     role        type demographic description units  \\\n",
            "0      Profile_mean  Feature  Continuous        None        None  None   \n",
            "1     Profile_stdev  Feature  Continuous        None        None  None   \n",
            "2  Profile_skewness  Feature  Continuous        None        None  None   \n",
            "3  Profile_kurtosis  Feature  Continuous        None        None  None   \n",
            "4           DM_mean  Feature  Continuous        None        None  None   \n",
            "5          DM_stdev  Feature  Continuous        None        None  None   \n",
            "6       DM_skewness  Feature  Continuous        None        None  None   \n",
            "7       DM_kurtosis  Feature  Continuous        None        None  None   \n",
            "8             class   Target      Binary        None        None  None   \n",
            "\n",
            "  missing_values  \n",
            "0             no  \n",
            "1             no  \n",
            "2             no  \n",
            "3             no  \n",
            "4             no  \n",
            "5             no  \n",
            "6             no  \n",
            "7             no  \n",
            "8             no  \n"
          ]
        }
      ],
      "source": [
        "!pip install ucimlrepo\n",
        "from ucimlrepo import fetch_ucirepo\n",
        "\n",
        "# fetch dataset\n",
        "htru2 = fetch_ucirepo(id=372)\n",
        "\n",
        "# data (as pandas dataframes)\n",
        "X = htru2.data.features\n",
        "y = htru2.data.targets\n",
        "\n",
        "# metadata\n",
        "print(htru2.metadata)\n",
        "\n",
        "# variable information\n",
        "print(htru2.variables)\n"
      ]
    },
    {
      "cell_type": "code",
      "source": [
        "from sklearn.model_selection import train_test_split\n",
        "from sklearn.neighbors import KNeighborsClassifier\n",
        "from sklearn.metrics import accuracy_score\n",
        "\n",
        "# Divisão holdout com 6000 amostras para treino\n",
        "X_train, X_test, y_train, y_test = train_test_split(X, y, train_size=6000, stratify=y, random_state=42)\n",
        "\n",
        "# Valores de k para testar\n",
        "k_values = [1, 3, 5, 7, 9]\n",
        "\n",
        "# Dividindo o conjunto de treino em duas partes para a validação\n",
        "X_train_split, X_valid_split, y_train_split, y_valid_split = train_test_split(X_train, y_train, train_size=3000, stratify=y_train, random_state=42)\n",
        "\n",
        "# Lista para armazenar acurácias\n",
        "validation_scores = []\n",
        "\n",
        "# Loop para encontrar o melhor k\n",
        "for k in k_values:\n",
        "    knn = KNeighborsClassifier(n_neighbors=k, metric='euclidean')\n",
        "    knn.fit(X_train_split, y_train_split)\n",
        "    y_pred = knn.predict(X_valid_split)\n",
        "    accuracy = accuracy_score(y_valid_split, y_pred)\n",
        "    validation_scores.append((k, accuracy))\n",
        "\n",
        "# Selecionando o melhor k com base na acurácia\n",
        "best_k = max(validation_scores, key=lambda x: x[1])[0]\n",
        "print(f\"Melhor valor de K: {best_k}\")\n"
      ],
      "metadata": {
        "colab": {
          "base_uri": "https://localhost:8080/"
        },
        "id": "_vktDzbIJ7-N",
        "outputId": "bb5b8e01-6070-45e3-94ed-ef6fe5dc8fd9"
      },
      "execution_count": null,
      "outputs": [
        {
          "output_type": "stream",
          "name": "stderr",
          "text": [
            "/usr/local/lib/python3.10/dist-packages/sklearn/neighbors/_classification.py:238: DataConversionWarning: A column-vector y was passed when a 1d array was expected. Please change the shape of y to (n_samples,), for example using ravel().\n",
            "  return self._fit(X, y)\n",
            "/usr/local/lib/python3.10/dist-packages/sklearn/neighbors/_classification.py:238: DataConversionWarning: A column-vector y was passed when a 1d array was expected. Please change the shape of y to (n_samples,), for example using ravel().\n",
            "  return self._fit(X, y)\n",
            "/usr/local/lib/python3.10/dist-packages/sklearn/neighbors/_classification.py:238: DataConversionWarning: A column-vector y was passed when a 1d array was expected. Please change the shape of y to (n_samples,), for example using ravel().\n",
            "  return self._fit(X, y)\n",
            "/usr/local/lib/python3.10/dist-packages/sklearn/neighbors/_classification.py:238: DataConversionWarning: A column-vector y was passed when a 1d array was expected. Please change the shape of y to (n_samples,), for example using ravel().\n",
            "  return self._fit(X, y)\n",
            "/usr/local/lib/python3.10/dist-packages/sklearn/neighbors/_classification.py:238: DataConversionWarning: A column-vector y was passed when a 1d array was expected. Please change the shape of y to (n_samples,), for example using ravel().\n",
            "  return self._fit(X, y)\n"
          ]
        },
        {
          "output_type": "stream",
          "name": "stdout",
          "text": [
            "Melhor valor de K: 9\n"
          ]
        }
      ]
    },
    {
      "cell_type": "code",
      "source": [
        "from sklearn.metrics import precision_score, recall_score\n",
        "import numpy as np\n",
        "\n",
        "# Listas para armazenar os resultados\n",
        "accuracies = []\n",
        "precisions = []\n",
        "recalls = []\n",
        "\n",
        "for i in range(5):\n",
        "    # Dividir novamente em 6000 para treino e o resto para teste\n",
        "    X_train, X_test, y_train, y_test = train_test_split(X, y, train_size=6000, stratify=y, random_state=i)\n",
        "\n",
        "    # Treinando o k-NN com o melhor k\n",
        "    knn = KNeighborsClassifier(n_neighbors=best_k, metric='euclidean')\n",
        "    knn.fit(X_train, y_train)\n",
        "\n",
        "    # Previsão no conjunto de teste\n",
        "    y_pred = knn.predict(X_test)\n",
        "\n",
        "    # Calculando métricas\n",
        "    accuracies.append(accuracy_score(y_test, y_pred))\n",
        "    precisions.append(precision_score(y_test, y_pred))\n",
        "    recalls.append(recall_score(y_test, y_pred))\n",
        "\n",
        "# Exibindo as métricas médias\n",
        "print(\"Accuracy:\", np.mean(accuracies))\n",
        "print(\"Precision:\", np.mean(precisions))\n",
        "print(\"Recall:\", np.mean(recalls))"
      ],
      "metadata": {
        "colab": {
          "base_uri": "https://localhost:8080/"
        },
        "id": "9RdWt0JuKPKv",
        "outputId": "1945a66b-8dfa-46fa-d8a5-a4bd4fe3d505"
      },
      "execution_count": null,
      "outputs": [
        {
          "output_type": "stream",
          "name": "stderr",
          "text": [
            "/usr/local/lib/python3.10/dist-packages/sklearn/neighbors/_classification.py:238: DataConversionWarning: A column-vector y was passed when a 1d array was expected. Please change the shape of y to (n_samples,), for example using ravel().\n",
            "  return self._fit(X, y)\n",
            "/usr/local/lib/python3.10/dist-packages/sklearn/neighbors/_classification.py:238: DataConversionWarning: A column-vector y was passed when a 1d array was expected. Please change the shape of y to (n_samples,), for example using ravel().\n",
            "  return self._fit(X, y)\n",
            "/usr/local/lib/python3.10/dist-packages/sklearn/neighbors/_classification.py:238: DataConversionWarning: A column-vector y was passed when a 1d array was expected. Please change the shape of y to (n_samples,), for example using ravel().\n",
            "  return self._fit(X, y)\n",
            "/usr/local/lib/python3.10/dist-packages/sklearn/neighbors/_classification.py:238: DataConversionWarning: A column-vector y was passed when a 1d array was expected. Please change the shape of y to (n_samples,), for example using ravel().\n",
            "  return self._fit(X, y)\n",
            "/usr/local/lib/python3.10/dist-packages/sklearn/neighbors/_classification.py:238: DataConversionWarning: A column-vector y was passed when a 1d array was expected. Please change the shape of y to (n_samples,), for example using ravel().\n",
            "  return self._fit(X, y)\n"
          ]
        },
        {
          "output_type": "stream",
          "name": "stdout",
          "text": [
            "Accuracy: 0.9730879139351151\n",
            "Precision: 0.9172987126696185\n",
            "Recall: 0.7763302752293577\n"
          ]
        }
      ]
    },
    {
      "cell_type": "markdown",
      "source": [
        "A acurácia indica que, em média, cerca de 97,3% das previsões estão corretas. Este é um resultado alto, mas em problemas com classes desbalanceadas, a acurácia pode ser enganosa se o modelo estiver apenas priorizando a classe majoritária."
      ],
      "metadata": {
        "id": "vneLzcHILiC0"
      }
    },
    {
      "cell_type": "markdown",
      "source": [
        "A precisão de 91,7% mostra que, das amostras que o modelo classificou como positivas (ou como sendo da classe de interesse), 91,7% estão corretas. Uma precisão alta indica que o modelo é bom em evitar falsos positivos."
      ],
      "metadata": {
        "id": "JACXq9LuLqg_"
      }
    },
    {
      "cell_type": "markdown",
      "source": [
        "O recall de 77,6% significa que o modelo conseguiu identificar corretamente 77,6% dos verdadeiros positivos. Esse valor é um pouco mais baixo, sugerindo que, apesar de alto, o modelo ainda perde algumas amostras da classe positiva."
      ],
      "metadata": {
        "id": "kHs3BBRELuu2"
      }
    },
    {
      "cell_type": "markdown",
      "source": [
        "Essas métricas, combinadas, indicam que o modelo possui uma boa precisão geral, mas perde alguns positivos, refletido pelo recall levemente inferior."
      ],
      "metadata": {
        "id": "jx6UAkMzL0Ez"
      }
    }
  ]
}
