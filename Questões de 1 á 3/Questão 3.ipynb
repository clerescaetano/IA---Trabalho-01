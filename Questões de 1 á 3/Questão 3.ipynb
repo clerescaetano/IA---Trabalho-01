{
  "nbformat": 4,
  "nbformat_minor": 0,
  "metadata": {
    "colab": {
      "provenance": [],
      "include_colab_link": true
    },
    "kernelspec": {
      "name": "python3",
      "display_name": "Python 3"
    },
    "language_info": {
      "name": "python"
    }
  },
  "cells": [
    {
      "cell_type": "markdown",
      "metadata": {
        "id": "view-in-github",
        "colab_type": "text"
      },
      "source": [
        "<a href=\"https://colab.research.google.com/github/clerescaetano/IA---Trabalho-01/blob/main/Q3_T1_IA.ipynb\" target=\"_parent\"><img src=\"https://colab.research.google.com/assets/colab-badge.svg\" alt=\"Open In Colab\"/></a>"
      ]
    },
    {
      "cell_type": "code",
      "execution_count": null,
      "metadata": {
        "colab": {
          "base_uri": "https://localhost:8080/"
        },
        "id": "O9rjlnbFGiCs",
        "outputId": "c3258658-17b1-4fb0-94b9-302eae29b770"
      },
      "outputs": [
        {
          "output_type": "stream",
          "name": "stdout",
          "text": [
            "Collecting ucimlrepo\n",
            "  Downloading ucimlrepo-0.0.7-py3-none-any.whl.metadata (5.5 kB)\n",
            "Requirement already satisfied: pandas>=1.0.0 in /usr/local/lib/python3.10/dist-packages (from ucimlrepo) (2.2.2)\n",
            "Requirement already satisfied: certifi>=2020.12.5 in /usr/local/lib/python3.10/dist-packages (from ucimlrepo) (2024.8.30)\n",
            "Requirement already satisfied: numpy>=1.22.4 in /usr/local/lib/python3.10/dist-packages (from pandas>=1.0.0->ucimlrepo) (1.26.4)\n",
            "Requirement already satisfied: python-dateutil>=2.8.2 in /usr/local/lib/python3.10/dist-packages (from pandas>=1.0.0->ucimlrepo) (2.8.2)\n",
            "Requirement already satisfied: pytz>=2020.1 in /usr/local/lib/python3.10/dist-packages (from pandas>=1.0.0->ucimlrepo) (2024.2)\n",
            "Requirement already satisfied: tzdata>=2022.7 in /usr/local/lib/python3.10/dist-packages (from pandas>=1.0.0->ucimlrepo) (2024.2)\n",
            "Requirement already satisfied: six>=1.5 in /usr/local/lib/python3.10/dist-packages (from python-dateutil>=2.8.2->pandas>=1.0.0->ucimlrepo) (1.16.0)\n",
            "Downloading ucimlrepo-0.0.7-py3-none-any.whl (8.0 kB)\n",
            "Installing collected packages: ucimlrepo\n",
            "Successfully installed ucimlrepo-0.0.7\n",
            "{'uci_id': 76, 'name': 'Nursery', 'repository_url': 'https://archive.ics.uci.edu/dataset/76/nursery', 'data_url': 'https://archive.ics.uci.edu/static/public/76/data.csv', 'abstract': ' Nursery Database was derived from a hierarchical decision model originally developed to rank applications for nursery schools.', 'area': 'Social Science', 'tasks': ['Classification'], 'characteristics': ['Multivariate'], 'num_instances': 12960, 'num_features': 8, 'feature_types': ['Categorical'], 'demographics': [], 'target_col': ['class'], 'index_col': None, 'has_missing_values': 'no', 'missing_values_symbol': None, 'year_of_dataset_creation': 1989, 'last_updated': 'Sun Jan 14 2024', 'dataset_doi': '10.24432/C5P88W', 'creators': ['Vladislav Rajkovic'], 'intro_paper': {'ID': 372, 'type': 'NATIVE', 'title': 'An application for admission in public school systems', 'authors': 'M. Olave, V. Rajkovic, M. Bohanec', 'venue': 'Expert Systems in Public Administration', 'year': 1989, 'journal': None, 'DOI': None, 'URL': 'https://www.academia.edu/16670755/An_application_for_admission_in_public_school_systems', 'sha': None, 'corpus': None, 'arxiv': None, 'mag': None, 'acl': None, 'pmid': None, 'pmcid': None}, 'additional_info': {'summary': \"Nursery Database was derived from a hierarchical decision model originally developed to rank applications for nursery schools. It was used during several years in 1980's when there was excessive enrollment to these schools in Ljubljana, Slovenia, and the rejected applications frequently needed an objective explanation. The final decision depended on three subproblems: occupation of parents and child's nursery, family structure and financial standing, and social and health picture of the family. The model was developed within expert system shell for decision making DEX (M. Bohanec, V. Rajkovic: Expert system for decision making. Sistemica 1(1), pp. 145-157, 1990.).\\r\\n\\r\\nThe hierarchical model ranks nursery-school applications according to the following concept structure:\\r\\n\\r\\n NURSERY            Evaluation of applications for nursery schools\\r\\n . EMPLOY           Employment of parents and child's nursery\\r\\n . . parents        Parents' occupation\\r\\n . . has_nurs       Child's nursery\\r\\n . STRUCT_FINAN     Family structure and financial standings\\r\\n . . STRUCTURE      Family structure\\r\\n . . . form         Form of the family\\r\\n . . . children     Number of children\\r\\n . . housing        Housing conditions\\r\\n . . finance        Financial standing of the family\\r\\n . SOC_HEALTH       Social and health picture of the family\\r\\n . . social         Social conditions\\r\\n . . health         Health conditions\\r\\n\\r\\nInput attributes are printed in lowercase. Besides the target concept (NURSERY) the model includes four intermediate concepts: EMPLOY, STRUCT_FINAN, STRUCTURE, SOC_HEALTH. Every concept is in the original model related to its lower level descendants by a set of examples (for these examples sets see http://www-ai.ijs.si/BlazZupan/nursery.html).\\r\\n\\r\\nThe Nursery Database contains examples with the structural information removed, i.e., directly relates NURSERY to the eight input attributes: parents, has_nurs, form, children, housing, finance, social, health.\\r\\n\\r\\nBecause of known underlying concept structure, this database may be particularly useful for testing constructive induction and structure discovery methods.\", 'purpose': None, 'funded_by': None, 'instances_represent': None, 'recommended_data_splits': None, 'sensitive_data': None, 'preprocessing_description': None, 'variable_info': '   parents:        usual, pretentious, great_pret\\r\\n   has_nurs:       proper, less_proper, improper, critical, very_crit\\r\\n   form:           complete, completed, incomplete, foster\\r\\n   children:       1, 2, 3, more\\r\\n   housing:        convenient, less_conv, critical\\r\\n   finance:        convenient, inconv\\r\\n   social:         non-prob, slightly_prob, problematic\\r\\n   health:         recommended, priority, not_recom', 'citation': None}}\n",
            "       name     role         type demographic  \\\n",
            "0   parents  Feature  Categorical        None   \n",
            "1  has_nurs  Feature  Categorical        None   \n",
            "2      form  Feature  Categorical        None   \n",
            "3  children  Feature  Categorical        None   \n",
            "4   housing  Feature  Categorical        None   \n",
            "5   finance  Feature  Categorical        None   \n",
            "6    social  Feature  Categorical        None   \n",
            "7    health  Feature  Categorical        None   \n",
            "8     class   Target  Categorical        None   \n",
            "\n",
            "                                         description units missing_values  \n",
            "0                     usual, pretentious, great_pret  None             no  \n",
            "1  proper, less_proper, improper, critical, very_...  None             no  \n",
            "2            complete, completed, incomplete, foster  None             no  \n",
            "3                                      1, 2, 3, more  None             no  \n",
            "4                    convenient, less_conv, critical  None             no  \n",
            "5                                 convenient, inconv  None             no  \n",
            "6               non-prob, slightly_prob, problematic  None             no  \n",
            "7                   recommended, priority, not_recom  None             no  \n",
            "8                   recommended, priority, not_recom  None             no  \n"
          ]
        }
      ],
      "source": [
        "!pip install ucimlrepo\n",
        "from ucimlrepo import fetch_ucirepo\n",
        "\n",
        "# fetch dataset\n",
        "nursery = fetch_ucirepo(id=76)\n",
        "\n",
        "# data (as pandas dataframes)\n",
        "X = nursery.data.features\n",
        "y = nursery.data.targets\n",
        "\n",
        "# metadata\n",
        "print(nursery.metadata)\n",
        "\n",
        "# variable information\n",
        "print(nursery.variables)\n"
      ]
    },
    {
      "cell_type": "code",
      "source": [
        "import pandas as pd\n",
        "from sklearn.model_selection import train_test_split\n",
        "from sklearn.tree import DecisionTreeClassifier, export_text\n",
        "from sklearn.metrics import accuracy_score\n",
        "from sklearn.preprocessing import OneHotEncoder\n",
        "from sklearn.compose import ColumnTransformer\n",
        "from sklearn.pipeline import Pipeline\n",
        "\n",
        "# Definindo o pré-processamento para variáveis categóricas usando OneHotEncoder\n",
        "preprocessor = ColumnTransformer(\n",
        "    transformers=[\n",
        "        ('cat', OneHotEncoder(), X.columns)\n",
        "    ]\n",
        ")\n",
        "\n",
        "\n",
        "clf_pipeline = Pipeline(steps=[\n",
        "    ('preprocessor', preprocessor),\n",
        "    ('classifier', DecisionTreeClassifier(criterion=\"entropy\", max_depth=2, random_state=42))\n",
        "])\n",
        "\n",
        "# Seleção de 10.000 amostras aleatórias para treinamento e o restante para teste\n",
        "X_train, X_test, y_train, y_test = train_test_split(X, y, train_size=10000, random_state=42, stratify=y)\n",
        "\n",
        "# Treinando o pipeline com o modelo de árvore de decisão\n",
        "clf_pipeline.fit(X_train, y_train)\n",
        "\n",
        "# Exibindo a estrutura da árvore de decisão\n",
        "tree_structure = export_text(clf_pipeline.named_steps['classifier'], feature_names=clf_pipeline.named_steps['preprocessor'].get_feature_names_out())\n",
        "print(\"Estrutura da Árvore de Decisão:\")\n",
        "print(tree_structure)\n",
        "\n",
        "# Avaliação do modelo usando os dados de teste\n",
        "y_pred = clf_pipeline.predict(X_test)\n",
        "accuracy = accuracy_score(y_test, y_pred)\n",
        "print(\"Acurácia:\", accuracy)\n",
        "\n",
        "# Regras de decisão a partir da árvore construída\n",
        "print(\"Regras de Decisão:\")\n",
        "print(tree_structure)\n",
        "\n"
      ],
      "metadata": {
        "colab": {
          "base_uri": "https://localhost:8080/"
        },
        "id": "VBj1NM5jHidr",
        "outputId": "53373cba-35b2-4f90-af99-cb9f812990c2"
      },
      "execution_count": null,
      "outputs": [
        {
          "output_type": "stream",
          "name": "stdout",
          "text": [
            "Estrutura da Árvore de Decisão:\n",
            "|--- cat__health_not_recom <= 0.50\n",
            "|   |--- cat__has_nurs_very_crit <= 0.50\n",
            "|   |   |--- class: priority\n",
            "|   |--- cat__has_nurs_very_crit >  0.50\n",
            "|   |   |--- class: spec_prior\n",
            "|--- cat__health_not_recom >  0.50\n",
            "|   |--- class: not_recom\n",
            "\n",
            "Acurácia: 0.7625\n",
            "Regras de Decisão:\n",
            "|--- cat__health_not_recom <= 0.50\n",
            "|   |--- cat__has_nurs_very_crit <= 0.50\n",
            "|   |   |--- class: priority\n",
            "|   |--- cat__has_nurs_very_crit >  0.50\n",
            "|   |   |--- class: spec_prior\n",
            "|--- cat__health_not_recom >  0.50\n",
            "|   |--- class: not_recom\n",
            "\n"
          ]
        }
      ]
    },
    {
      "cell_type": "markdown",
      "source": [
        "train_test_split: Seleciona 10.000 amostras aleatórias para treinamento e o restante para teste, com stratify=y para manter a proporção de classes.\n",
        "\n",
        "DecisionTreeClassifier: Cria um classificador de árvore de decisão com o critério de entropia (criterion=\"entropy\") e limita a profundidade a dois níveis (max_depth=2).\n",
        "\n",
        "export_text: Exibe a estrutura da árvore de decisão em um formato de texto, que facilita a interpretação das regras de decisão.\n",
        "accuracy_score: Calcula a acurácia do modelo nos dados de teste."
      ],
      "metadata": {
        "id": "_OJotvatHnH9"
      }
    },
    {
      "cell_type": "markdown",
      "source": [
        "REFERENCIA: https://github.com/arnaldog12/Machine_Learning/blob/master/Decision%20Trees.ipynb\n"
      ],
      "metadata": {
        "id": "hfOyOWcLImXv"
      }
    }
  ]
}
